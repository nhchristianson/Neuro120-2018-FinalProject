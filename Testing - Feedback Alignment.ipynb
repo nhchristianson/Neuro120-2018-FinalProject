{
 "cells": [
  {
   "cell_type": "code",
   "execution_count": 1,
   "metadata": {},
   "outputs": [],
   "source": [
    "import numpy as np\n",
    "import scipy as sp\n",
    "import matplotlib.pyplot as plt\n",
    "import torch\n",
    "\n",
    "%matplotlib inline"
   ]
  },
  {
   "cell_type": "markdown",
   "metadata": {},
   "source": [
    "Here we test some feedback alignment learning:"
   ]
  },
  {
   "cell_type": "code",
   "execution_count": 524,
   "metadata": {},
   "outputs": [],
   "source": [
    "class LinearNN:\n",
    "    # Creates a three-layer linear neural network to approximate a linear\n",
    "    # function Lin_map, using datapoints X (columns of X are each a point)\n",
    "    def __init__(self, Lin_map, X):\n",
    "        # Actual target linear function to learn\n",
    "        self.L = Lin_map\n",
    "        M, N = Lin_map.shape\n",
    "        H = int((M + N) / 2)\n",
    "        \n",
    "        # Layers of our neural network\n",
    "        self.W0 = np.random.normal(scale=0.1, size=(H, N))\n",
    "        self.W = np.random.normal(scale=0.1, size=(M, H))\n",
    "        \n",
    "        # training data and labels\n",
    "        self.X = X\n",
    "        self.y = np.matmul(self.L, self.X)\n",
    "        \n",
    "    def backprop(self, lr = 0.0000001, n_epochs=20000, batch_size=50):\n",
    "        errors = []\n",
    "        for epoch in range(n_epochs):\n",
    "            batch_inds = np.random.randint(self.X.shape[1], \n",
    "                                           size=batch_size)\n",
    "            X_batch = self.X[:, batch_inds]\n",
    "            # create an approximation for y using our NN\n",
    "            # first compute hidden layer activity\n",
    "            h = np.matmul(self.W0, X_batch)\n",
    "            # then output activity\n",
    "            y_est = np.matmul(self.W, h)\n",
    "            error = self.y[:, batch_inds] - y_est\n",
    "            errors.append(np.linalg.norm(error))\n",
    "            # Backprop weight updates for our NN\n",
    "            self.W += lr * np.dot(error, h.T)\n",
    "            self.W0 += lr * np.dot(self.W.T, np.dot(error, X_batch.T))\n",
    "            if epoch % 1000 == 0:\n",
    "                print(np.linalg.norm(error))\n",
    "        return errors\n",
    "    \n",
    "    def feedback_align(self, lr = 0.000001, \n",
    "                       n_epochs=20000, batch_size=50):\n",
    "        # our random matrix B for learning\n",
    "        B = np.random.normal(size=self.W.shape)\n",
    "        errors = []\n",
    "        for epoch in range(n_epochs):\n",
    "            batch_inds = np.random.randint(self.X.shape[1], \n",
    "                                           size=batch_size)\n",
    "            X_batch = self.X[:, batch_inds]\n",
    "            # create an approximation for y using our NN\n",
    "            # first compute hidden layer activity\n",
    "            h = np.matmul(self.W0, X_batch)\n",
    "            # then output activity\n",
    "            y_est = np.matmul(self.W, h)\n",
    "            error = self.y[:, batch_inds] - y_est\n",
    "            errors.append(np.linalg.norm(error))\n",
    "            # Backprop weight updates for our NN\n",
    "            self.W += lr * np.dot(error, h.T)\n",
    "            self.W0 += lr * np.dot(B.T, np.dot(error, X_batch.T))\n",
    "            if epoch % 1000 == 0:\n",
    "                print(np.linalg.norm(error))\n",
    "        return errors"
   ]
  },
  {
   "cell_type": "code",
   "execution_count": 525,
   "metadata": {},
   "outputs": [
    {
     "name": "stdout",
     "output_type": "stream",
     "text": [
      "19.163153114299913\n",
      "13.422509424755063\n",
      "9.252987595917467\n",
      "6.174149260987884\n",
      "4.4178433059385105\n",
      "3.2938230996707185\n",
      "2.368957567972501\n",
      "1.8524790057809581\n",
      "1.3752070675235901\n",
      "1.0969302745338887\n",
      "20.083252330783978\n",
      "5.506673222543614\n",
      "1.5694548226747893\n",
      "0.6050853342991594\n",
      "0.30545318328227744\n",
      "0.1302874549154682\n",
      "0.06145108848281901\n",
      "0.02820696275108192\n",
      "0.013212447671870476\n",
      "0.0057799336919982566\n"
     ]
    }
   ],
   "source": [
    "# Target linear function to learn\n",
    "L = np.random.normal(scale=0.1, size=(10, 30))\n",
    "\n",
    "# Training data\n",
    "X = np.random.normal(0, 1, size=(30, 10000))\n",
    "\n",
    "model1 = LinearNN(L, X)\n",
    "model2 = LinearNN(L, X)\n",
    "\n",
    "err1 = model1.backprop(lr=0.00001, n_epochs=10000, batch_size=100)\n",
    "err2 = model2.feedback_align(lr=0.00001, n_epochs=10000, batch_size=100)"
   ]
  },
  {
   "cell_type": "markdown",
   "metadata": {},
   "source": [
    "And we can plot the error as a function of the number of completed epochs of training for each algorithm:"
   ]
  },
  {
   "cell_type": "code",
   "execution_count": 527,
   "metadata": {},
   "outputs": [
    {
     "data": {
      "image/png": "[encoded data removed]",
      "text/plain": [
       "<Figure size 720x432 with 1 Axes>"
      ]
     },
     "metadata": {},
     "output_type": "display_data"
    }
   ],
   "source": [
    "plt.figure(figsize=(10, 6))\n",
    "plt.plot(range(len(err1)), err1, label='Backprop')\n",
    "plt.plot(range(len(err2)), err2, label='Feedback Alignment')\n",
    "plt.legend()\n",
    "plt.xlabel('Epoch')\n",
    "plt.ylabel('L2-Norm Error')\n",
    "plt.show()"
   ]
  }
 ],
 "metadata": {
  "kernelspec": {
   "display_name": "Python 3",
   "language": "python",
   "name": "python3"
  },
  "language_info": {
   "codemirror_mode": {
    "name": "ipython",
    "version": 3
   },
   "file_extension": ".py",
   "mimetype": "text/x-python",
   "name": "python",
   "nbconvert_exporter": "python",
   "pygments_lexer": "ipython3",
   "version": "3.7.0"
  }
 },
 "nbformat": 4,
 "nbformat_minor": 2
}
